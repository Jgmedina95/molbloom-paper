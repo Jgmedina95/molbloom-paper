{
  "cells": [
    {
      "cell_type": "markdown",
      "metadata": {
        "id": "view-in-github",
        "colab_type": "text"
      },
      "source": [
        "<a href=\"https://colab.research.google.com/github/Jgmedina95/molbloom-paper/blob/main/molbloom_fpr_study.ipynb\" target=\"_parent\"><img src=\"https://colab.research.google.com/assets/colab-badge.svg\" alt=\"Open In Colab\"/></a>"
      ]
    },
    {
      "cell_type": "code",
      "source": [
        "pip install molbloom\n"
      ],
      "metadata": {
        "id": "AcGB3vRYT7vv",
        "outputId": "cdf1c245-2fde-4acd-8a47-4c8b2400021d",
        "colab": {
          "base_uri": "https://localhost:8080/"
        }
      },
      "id": "AcGB3vRYT7vv",
      "execution_count": null,
      "outputs": [
        {
          "output_type": "stream",
          "name": "stdout",
          "text": [
            "Looking in indexes: https://pypi.org/simple, https://us-python.pkg.dev/colab-wheels/public/simple/\n",
            "Collecting molbloom\n",
            "  Downloading molbloom-2.1.0-cp39-cp39-manylinux_2_5_x86_64.manylinux1_x86_64.manylinux_2_17_x86_64.manylinux2014_x86_64.whl (9.3 MB)\n",
            "\u001b[2K     \u001b[90m━━━━━━━━━━━━━━━━━━━━━━━━━━━━━━━━━━━━━━━━\u001b[0m \u001b[32m9.3/9.3 MB\u001b[0m \u001b[31m29.4 MB/s\u001b[0m eta \u001b[36m0:00:00\u001b[0m\n",
            "\u001b[?25hRequirement already satisfied: importlib-resources in /usr/local/lib/python3.9/dist-packages (from molbloom) (5.12.0)\n",
            "Requirement already satisfied: zipp>=3.1.0 in /usr/local/lib/python3.9/dist-packages (from importlib-resources->molbloom) (3.15.0)\n",
            "Installing collected packages: molbloom\n",
            "Successfully installed molbloom-2.1.0\n"
          ]
        }
      ]
    },
    {
      "cell_type": "code",
      "source": [
        "pip install rdkit"
      ],
      "metadata": {
        "id": "-L5C6-vLUFid",
        "outputId": "2dcb5f77-9a0d-4f51-c21f-a6a19d2efffd",
        "colab": {
          "base_uri": "https://localhost:8080/"
        }
      },
      "id": "-L5C6-vLUFid",
      "execution_count": null,
      "outputs": [
        {
          "output_type": "stream",
          "name": "stdout",
          "text": [
            "Looking in indexes: https://pypi.org/simple, https://us-python.pkg.dev/colab-wheels/public/simple/\n",
            "Collecting rdkit\n",
            "  Downloading rdkit-2022.9.5-cp39-cp39-manylinux_2_17_x86_64.manylinux2014_x86_64.whl (29.4 MB)\n",
            "\u001b[2K     \u001b[90m━━━━━━━━━━━━━━━━━━━━━━━━━━━━━━━━━━━━━━━━\u001b[0m \u001b[32m29.4/29.4 MB\u001b[0m \u001b[31m39.2 MB/s\u001b[0m eta \u001b[36m0:00:00\u001b[0m\n",
            "\u001b[?25hRequirement already satisfied: numpy in /usr/local/lib/python3.9/dist-packages (from rdkit) (1.22.4)\n",
            "Requirement already satisfied: Pillow in /usr/local/lib/python3.9/dist-packages (from rdkit) (8.4.0)\n",
            "Installing collected packages: rdkit\n",
            "Successfully installed rdkit-2022.9.5\n"
          ]
        }
      ]
    },
    {
      "cell_type": "code",
      "execution_count": null,
      "id": "601dc863",
      "metadata": {
        "id": "601dc863"
      },
      "outputs": [],
      "source": [
        "import matplotlib.pyplot as plt\n",
        "import matplotlib.font_manager as font_manager\n",
        "import urllib.request\n",
        "import matplotlib as mpl\n",
        "import matplotlib.pyplot as plt\n",
        "import matplotlib.colors as colors\n",
        "from matplotlib.ticker import FuncFormatter\n",
        "import numpy as np\n",
        "import math\n",
        "import os\n",
        "import urllib\n",
        "from dataclasses import dataclass\n",
        "import json\n",
        "import sys\n",
        "from molbloom import CustomFilter, canon\n",
        "from rdkit import DataStructs\n",
        "from rdkit import Chem\n",
        "from rdkit.Chem import AllChem, MACCSkeys, AllChem, MACCSkeys, rdMolDescriptors\n",
        "import time\n",
        "from urllib.request import urlopen\n",
        "from urllib.error import URLError, HTTPError\n",
        "import json\n",
        "#np.random.seed(0)\n",
        "urllib.request.urlretrieve('https://github.com/google/fonts/raw/main/ofl/ibmplexmono/IBMPlexMono-Regular.ttf', 'IBMPlexMono-Regular.ttf')\n",
        "fe = font_manager.FontEntry(\n",
        "    fname='IBMPlexMono-Regular.ttf',\n",
        "    name='plexmono')\n",
        "font_manager.fontManager.ttflist.append(fe)\n",
        "plt.rcParams.update({'axes.facecolor':'#f5f4e9', \n",
        "            'grid.color' : '#AAAAAA', \n",
        "            'axes.edgecolor':'#333333', \n",
        "            'figure.facecolor':'#FFFFFF', \n",
        "            'axes.grid': False,\n",
        "            'axes.prop_cycle':   plt.cycler('color', plt.cm.Dark2.colors),\n",
        "            'font.family': fe.name,\n",
        "            'figure.figsize': (3.5,3.5 / 1.2),\n",
        "            'ytick.left': True,\n",
        "            'xtick.bottom': True   \n",
        "           })"
      ]
    },
    {
      "cell_type": "code",
      "source": [
        "from google.colab import drive\n",
        "drive.mount('/content/drive')"
      ],
      "metadata": {
        "id": "m-m71sQJUn2-",
        "outputId": "80cc3ac6-d139-40c3-868c-02703b072b48",
        "colab": {
          "base_uri": "https://localhost:8080/"
        }
      },
      "id": "m-m71sQJUn2-",
      "execution_count": null,
      "outputs": [
        {
          "output_type": "stream",
          "name": "stdout",
          "text": [
            "Mounted at /content/drive\n"
          ]
        }
      ]
    },
    {
      "cell_type": "code",
      "execution_count": null,
      "id": "69f4e013",
      "metadata": {
        "id": "69f4e013"
      },
      "outputs": [],
      "source": [
        "with open(\"/content/drive/MyDrive/COCONUT_DB.smi\", \"r\") as f:\n",
        "    smi_list = f.readlines()\n",
        "#smi_list"
      ]
    },
    {
      "cell_type": "code",
      "source": [
        "from rdkit import RDLogger\n",
        "RDLogger.DisableLog('rdApp.warning') #this is for cleaner presentation. A lot of messages of the type: [13:19:48] Explicit valence for atom # 3 B, 4, is greater than permitted"
      ],
      "metadata": {
        "id": "iICis9HSUxmE"
      },
      "id": "iICis9HSUxmE",
      "execution_count": null,
      "outputs": []
    },
    {
      "cell_type": "code",
      "execution_count": null,
      "id": "054dc242",
      "metadata": {
        "scrolled": true,
        "id": "054dc242"
      },
      "outputs": [],
      "source": [
        "mols = []\n",
        "can_smiles = []\n",
        "for i,smi in enumerate(smi_list):\n",
        "  mol = Chem.MolFromSmiles(smi.split(\" \")[0])\n",
        "  if mol:\n",
        "    mols.append(mol)\n",
        "    can_smiles.append(Chem.MolToSmiles(mol,True))"
      ]
    },
    {
      "cell_type": "code",
      "execution_count": null,
      "id": "12c2a782",
      "metadata": {
        "id": "12c2a782"
      },
      "outputs": [],
      "source": [
        "#this takes some minutes\n",
        "third_fps = [rdMolDescriptors.GetHashedAtomPairFingerprintAsBitVect(mol) for mol in mols]\n",
        "morgan_fps = [AllChem.GetMorganFingerprintAsBitVect(mol, 2) for mol in mols]\n",
        "rdkfingerprints = [Chem.RDKFingerprint(mol) for mol in mols]\n",
        "MACCfps = [MACCSkeys.GenMACCSKeys(mol)for mol in mols]"
      ]
    },
    {
      "cell_type": "code",
      "execution_count": null,
      "id": "e8ed5a7c",
      "metadata": {
        "id": "e8ed5a7c"
      },
      "outputs": [],
      "source": [
        "#python implementation of bloom filter with fps\n",
        "\n",
        "def create_empty_bloom_filter(size):\n",
        "    return np.zeros(size)\n",
        "\n",
        "def hashed_indexes(h1,h2,size):\n",
        "  indexes = []\n",
        "  for i in range(max(8, min(64, int(size / int(406919/2) * math.log(2))))):\n",
        "     indexes.append(((h1) + i*(h2))%size)\n",
        "  return indexes\n",
        "\n",
        "def add_molecules(fp1,fp2,bf,size):\n",
        "  h1 = int(DataStructs.BitVectToText(fp1),base=2)\n",
        "  h2 = int(DataStructs.BitVectToText(fp2),base=2)\n",
        "  for index in hashed_indexes(h1,h2,size):\n",
        "    bf[index]=1\n",
        "  return bf\n",
        "  \n",
        "def check_molecule(fp1, fp2, bf, size):\n",
        "    h1 = int(DataStructs.BitVectToText(fp1), base=2)\n",
        "    h2 = int(DataStructs.BitVectToText(fp2), base=2)\n",
        "    for index in hashed_indexes(h1, h2, size):\n",
        "        if bf[index] == 0:\n",
        "            return False\n",
        "    return True\n"
      ]
    },
    {
      "cell_type": "code",
      "execution_count": null,
      "id": "2380b213",
      "metadata": {
        "id": "2380b213"
      },
      "outputs": [],
      "source": [
        "#setting parameters for tests\n",
        "bloom_size = [10,100,1000,10000,50000,100000,150000,200000,250000,300000,350000,400000,450000,\n",
        "             500000,550000,600000,650000,700000,750000,800000,850000,900000,950000,1000000,2000000,\n",
        "              3000000,4000000,5000000,10_000_000,100_000_000]\n",
        "split = int(len(mols)/2)\n",
        "fpr_fps = []\n",
        "is_in_fps = []\n",
        "def test_wraper(fps1,fps2,size_range,split_index):\n",
        "  fpr_fps=[]\n",
        "  for size in size_range:\n",
        "    is_not_fps = []\n",
        "    bf = create_empty_bloom_filter(size)\n",
        "    for i, (fp1,fp2) in enumerate(zip(fps1,fps2)):\n",
        "      if i <split_index:\n",
        "        bf = add_molecules(fp1,fp2,bf,size)\n",
        "      else:\n",
        "        is_not_fps.append(check_molecule(fp1,fp2,bf,size))\n",
        "    print(f'false positive rate fps:size {size:1.2E} {100-((len(is_not_fps)-sum(is_not_fps))*100/len(is_not_fps))}')\n",
        "    fpr_fps.append(100-((len(is_not_fps)-sum(is_not_fps))*100/len(is_not_fps)))\n",
        "  return fpr_fps\n"
      ]
    },
    {
      "cell_type": "code",
      "execution_count": null,
      "id": "2b36a236",
      "metadata": {
        "id": "2b36a236",
        "outputId": "e41e1315-87f1-4899-f5f7-49378b99c247",
        "colab": {
          "base_uri": "https://localhost:8080/"
        }
      },
      "outputs": [
        {
          "output_type": "stream",
          "name": "stdout",
          "text": [
            "false positive rate fps:size 1.00E+01 100.0\n",
            "false positive rate fps:size 1.00E+02 100.0\n",
            "false positive rate fps:size 1.00E+03 100.0\n",
            "false positive rate fps:size 1.00E+04 99.61319178216849\n",
            "false positive rate fps:size 5.00E+04 97.84773419836823\n",
            "false positive rate fps:size 1.00E+05 96.7394082374914\n",
            "false positive rate fps:size 1.50E+05 95.179396441561\n",
            "false positive rate fps:size 2.00E+05 94.64022412267768\n",
            "false positive rate fps:size 2.50E+05 93.30777548412465\n",
            "false positive rate fps:size 3.00E+05 92.1832301189423\n",
            "false positive rate fps:size 3.50E+05 91.86375700383368\n",
            "false positive rate fps:size 4.00E+05 90.60552442740588\n",
            "false positive rate fps:size 4.50E+05 90.4855991349651\n",
            "false positive rate fps:size 5.00E+05 88.93492578393787\n",
            "false positive rate fps:size 5.50E+05 89.36695173498477\n",
            "false positive rate fps:size 6.00E+05 87.37098201120614\n",
            "false positive rate fps:size 6.50E+05 88.30286051312297\n",
            "false positive rate fps:size 7.00E+05 86.46515285559815\n",
            "false positive rate fps:size 7.50E+05 87.57544480487564\n",
            "false positive rate fps:size 8.00E+05 86.50889609751303\n",
            "false positive rate fps:size 8.50E+05 86.82591172712081\n",
            "false positive rate fps:size 9.00E+05 84.85451685835054\n",
            "false positive rate fps:size 9.50E+05 86.36341295586357\n",
            "false positive rate fps:size 1.00E+06 84.05435957927848\n",
            "false positive rate fps:size 2.00E+06 80.61240538680822\n",
            "false positive rate fps:size 3.00E+06 79.4455912710115\n",
            "false positive rate fps:size 4.00E+06 79.17477636881942\n",
            "false positive rate fps:size 5.00E+06 78.84449031750712\n",
            "false positive rate fps:size 1.00E+07 78.07628034994593\n",
            "false positive rate fps:size 1.00E+08 59.50801140273273\n",
            "false positive rate fps:size 1.00E+01 100.0\n",
            "false positive rate fps:size 1.00E+02 100.0\n",
            "false positive rate fps:size 1.00E+03 100.0\n",
            "false positive rate fps:size 1.00E+04 100.0\n",
            "false positive rate fps:size 5.00E+04 100.0\n",
            "false positive rate fps:size 1.00E+05 99.7311510862086\n",
            "false positive rate fps:size 1.50E+05 98.45129263737344\n",
            "false positive rate fps:size 2.00E+05 92.83249778826305\n",
            "false positive rate fps:size 2.50E+05 90.27081490219207\n",
            "false positive rate fps:size 3.00E+05 82.79366951734985\n",
            "false positive rate fps:size 3.50E+05 76.08620859136931\n",
            "false positive rate fps:size 4.00E+05 68.07333136734493\n",
            "false positive rate fps:size 4.50E+05 61.59933156394377\n",
            "false positive rate fps:size 5.00E+05 55.88666076870147\n",
            "false positive rate fps:size 5.50E+05 49.69379730659589\n",
            "false positive rate fps:size 6.00E+05 48.20603558439005\n",
            "false positive rate fps:size 6.50E+05 40.989875159736556\n",
            "false positive rate fps:size 7.00E+05 38.700481667158165\n",
            "false positive rate fps:size 7.50E+05 35.13712769094663\n",
            "false positive rate fps:size 8.00E+05 39.258822372947996\n",
            "false positive rate fps:size 8.50E+05 30.961859825027034\n",
            "false positive rate fps:size 9.00E+05 29.720829647105077\n",
            "false positive rate fps:size 9.50E+05 28.370195615845873\n",
            "false positive rate fps:size 1.00E+06 28.72702251056718\n",
            "false positive rate fps:size 2.00E+06 16.61751695664995\n",
            "false positive rate fps:size 3.00E+06 14.332546937973063\n",
            "false positive rate fps:size 4.00E+06 13.074314361545262\n",
            "false positive rate fps:size 5.00E+06 14.136439595006394\n",
            "false positive rate fps:size 1.00E+07 12.143418853828763\n",
            "false positive rate fps:size 1.00E+08 2.906713850388286\n",
            "false positive rate fps:size 1.00E+01 100.0\n",
            "false positive rate fps:size 1.00E+02 100.0\n",
            "false positive rate fps:size 1.00E+03 100.0\n",
            "false positive rate fps:size 1.00E+04 99.5679740489531\n",
            "false positive rate fps:size 5.00E+04 99.12857564140371\n",
            "false positive rate fps:size 1.00E+05 98.86464169861398\n",
            "false positive rate fps:size 1.50E+05 99.12857564140371\n",
            "false positive rate fps:size 2.00E+05 96.73989973459156\n",
            "false positive rate fps:size 2.50E+05 99.12857564140371\n",
            "false positive rate fps:size 3.00E+05 95.28359382679642\n",
            "false positive rate fps:size 3.50E+05 99.02290376486779\n",
            "false positive rate fps:size 4.00E+05 89.20967266293128\n",
            "false positive rate fps:size 4.50E+05 98.41983682296275\n",
            "false positive rate fps:size 5.00E+05 89.56109308955077\n",
            "false positive rate fps:size 5.50E+05 96.50594711491202\n",
            "false positive rate fps:size 6.00E+05 84.03912316917331\n",
            "false positive rate fps:size 6.50E+05 92.7779416101445\n",
            "false positive rate fps:size 7.00E+05 83.19915462498771\n",
            "false positive rate fps:size 7.50E+05 87.56364887447164\n",
            "false positive rate fps:size 8.00E+05 77.64277990759854\n",
            "false positive rate fps:size 8.50E+05 80.84783249778826\n",
            "false positive rate fps:size 9.00E+05 76.4391035092893\n",
            "false positive rate fps:size 9.50E+05 72.9932173400177\n",
            "false positive rate fps:size 1.00E+06 73.00697925882237\n",
            "false positive rate fps:size 2.00E+06 52.76762017104099\n",
            "false positive rate fps:size 3.00E+06 21.364395950063894\n",
            "false positive rate fps:size 4.00E+06 38.102821193354956\n",
            "false positive rate fps:size 5.00E+06 4.165929421016415\n",
            "false positive rate fps:size 1.00E+07 2.8816474982797615\n",
            "false positive rate fps:size 1.00E+08 2.8516661751695693\n",
            "false positive rate fps:size 1.00E+01 100.0\n",
            "false positive rate fps:size 1.00E+02 100.0\n",
            "false positive rate fps:size 1.00E+03 100.0\n",
            "false positive rate fps:size 1.00E+04 100.0\n",
            "false positive rate fps:size 5.00E+04 100.0\n",
            "false positive rate fps:size 1.00E+05 99.80241816573282\n",
            "false positive rate fps:size 1.50E+05 98.70195615845867\n",
            "false positive rate fps:size 2.00E+05 93.320554408729\n",
            "false positive rate fps:size 2.50E+05 91.00216258724073\n",
            "false positive rate fps:size 3.00E+05 83.89757200432517\n",
            "false positive rate fps:size 3.50E+05 77.70520003931976\n",
            "false positive rate fps:size 4.00E+05 68.58203086601789\n",
            "false positive rate fps:size 4.50E+05 63.27435368131328\n",
            "false positive rate fps:size 5.00E+05 56.77135554900226\n",
            "false positive rate fps:size 5.50E+05 50.83800255578492\n",
            "false positive rate fps:size 6.00E+05 48.06841639634326\n",
            "false positive rate fps:size 6.50E+05 41.72023985058488\n",
            "false positive rate fps:size 7.00E+05 38.60316524132508\n",
            "false positive rate fps:size 7.50E+05 34.88400668436056\n",
            "false positive rate fps:size 8.00E+05 37.23778629706085\n",
            "false positive rate fps:size 8.50E+05 30.28457682099676\n",
            "false positive rate fps:size 9.00E+05 28.69507519905632\n",
            "false positive rate fps:size 9.50E+05 27.293816966479895\n",
            "false positive rate fps:size 1.00E+06 27.267767620171043\n",
            "false positive rate fps:size 2.00E+06 14.79996068023199\n",
            "false positive rate fps:size 3.00E+06 12.481568858743728\n",
            "false positive rate fps:size 4.00E+06 11.418460631082283\n",
            "false positive rate fps:size 5.00E+06 12.23778629706085\n",
            "false positive rate fps:size 1.00E+07 10.356826894721323\n",
            "false positive rate fps:size 1.00E+08 0.570628133294008\n",
            "false positive rate fps:size 1.00E+01 100.0\n",
            "false positive rate fps:size 1.00E+02 100.0\n",
            "false positive rate fps:size 1.00E+03 100.0\n",
            "false positive rate fps:size 1.00E+04 99.65496903568268\n",
            "false positive rate fps:size 5.00E+04 99.35417281038042\n",
            "false positive rate fps:size 1.00E+05 99.32566597857073\n",
            "false positive rate fps:size 1.50E+05 99.35318981618009\n",
            "false positive rate fps:size 2.00E+05 97.85510665487074\n",
            "false positive rate fps:size 2.50E+05 99.35318981618009\n",
            "false positive rate fps:size 3.00E+05 96.66666666666667\n",
            "false positive rate fps:size 3.50E+05 99.27209279465251\n",
            "false positive rate fps:size 4.00E+05 90.45758380025558\n",
            "false positive rate fps:size 4.50E+05 98.70343064975917\n",
            "false positive rate fps:size 5.00E+05 90.26835741669125\n",
            "false positive rate fps:size 5.50E+05 97.11540351911924\n",
            "false positive rate fps:size 6.00E+05 83.52944067630001\n",
            "false positive rate fps:size 6.50E+05 93.72210753956551\n",
            "false positive rate fps:size 7.00E+05 82.56758085127298\n",
            "false positive rate fps:size 7.50E+05 89.06173203578099\n",
            "false positive rate fps:size 8.00E+05 74.8535338641502\n",
            "false positive rate fps:size 8.50E+05 82.64474589599922\n",
            "false positive rate fps:size 9.00E+05 74.37284970018678\n",
            "false positive rate fps:size 9.50E+05 75.24427405878305\n",
            "false positive rate fps:size 1.00E+06 69.2140961368328\n",
            "false positive rate fps:size 2.00E+06 42.67276123070874\n",
            "false positive rate fps:size 3.00E+06 16.693207510075695\n",
            "false positive rate fps:size 4.00E+06 19.859431829352204\n",
            "false positive rate fps:size 5.00E+06 1.4523739309938009\n",
            "false positive rate fps:size 1.00E+07 0.059962646220384386\n",
            "false positive rate fps:size 1.00E+08 0.028998328909864313\n",
            "false positive rate fps:size 1.00E+01 100.0\n",
            "false positive rate fps:size 1.00E+02 100.0\n",
            "false positive rate fps:size 1.00E+03 100.0\n",
            "false positive rate fps:size 1.00E+04 100.0\n",
            "false positive rate fps:size 5.00E+04 100.0\n",
            "false positive rate fps:size 1.00E+05 99.99508502899833\n",
            "false positive rate fps:size 1.50E+05 99.8953111176644\n",
            "false positive rate fps:size 2.00E+05 97.44519807333137\n",
            "false positive rate fps:size 2.50E+05 97.41570824732133\n",
            "false positive rate fps:size 3.00E+05 94.44018480290967\n",
            "false positive rate fps:size 3.50E+05 90.41187456994004\n",
            "false positive rate fps:size 4.00E+05 82.32134080408926\n",
            "false positive rate fps:size 4.50E+05 79.34483436547724\n",
            "false positive rate fps:size 5.00E+05 72.84871719256856\n",
            "false positive rate fps:size 5.50E+05 66.92961761525606\n",
            "false positive rate fps:size 6.00E+05 61.076870146466135\n",
            "false positive rate fps:size 6.50E+05 54.66627346898653\n",
            "false positive rate fps:size 7.00E+05 48.982109505553915\n",
            "false positive rate fps:size 7.50E+05 43.80173006979259\n",
            "false positive rate fps:size 8.00E+05 45.106654870736264\n",
            "false positive rate fps:size 8.50E+05 34.658409515383866\n",
            "false positive rate fps:size 9.00E+05 30.737737147350828\n",
            "false positive rate fps:size 9.50E+05 27.8123464071562\n",
            "false positive rate fps:size 1.00E+06 26.676988105770178\n",
            "false positive rate fps:size 2.00E+06 6.820996756119143\n",
            "false positive rate fps:size 3.00E+06 4.837314459844691\n",
            "false positive rate fps:size 4.00E+06 4.694780300796225\n",
            "false positive rate fps:size 5.00E+06 4.571414528654287\n",
            "false positive rate fps:size 1.00E+07 4.568957043153446\n",
            "false positive rate fps:size 1.00E+08 4.568957043153446\n"
          ]
        }
      ],
      "source": [
        "##This takes a while, 31 different filter sizes for each test.\n",
        "#print(\"morgan_fps\", \"atom_pair_fingerprints\")\n",
        "fpr_fps1 = test_wraper(morgan_fps,third_fps,bloom_size,split)\n",
        "#print(\"morgan_fps\", \"rdkfingerprints\")\n",
        "fpr_fps2 = test_wraper(morgan_fps,rdkfingerprints,bloom_size,split)\n",
        "#print(\"morgan_fps\",\"MACCS\")\n",
        "fpr_fps3 = test_wraper(morgan_fps,MACCfps,bloom_size,split)\n",
        "#print(\"atom_pair_fingerprints\", \"RDK_fingerprints\")\n",
        "fpr_fps4 = test_wraper(third_fps,rdkfingerprints,bloom_size,split)\n",
        "#print(\"atom_pair_fingerprints\", \"MACCfps\")\n",
        "fpr_fps5 = test_wraper(third_fps,MACCfps,bloom_size,split)\n",
        "#print(\"rdk_fingerprints\",\"MACCS\")\n",
        "fpr_fps6 = test_wraper(rdkfingerprints,MACCfps,bloom_size,split)"
      ]
    },
    {
      "cell_type": "code",
      "execution_count": null,
      "id": "b7848403",
      "metadata": {
        "id": "b7848403",
        "outputId": "c78a3f6a-7930-422b-d2e3-95b96f7e0035",
        "colab": {
          "base_uri": "https://localhost:8080/"
        }
      },
      "outputs": [
        {
          "output_type": "stream",
          "name": "stdout",
          "text": [
            "10 203459\n",
            "false positive rate smiles: 100.0\n",
            "100 203459\n",
            "false positive rate smiles: 100.0\n",
            "1000 203459\n",
            "false positive rate smiles: 100.0\n",
            "10000 203459\n",
            "false positive rate smiles: 100.0\n",
            "50000 203459\n",
            "false positive rate smiles: 100.0\n",
            "100000 203459\n",
            "false positive rate smiles: 100.0\n",
            "150000 203459\n",
            "false positive rate smiles: 99.99115300871429\n",
            "200000 203459\n",
            "false positive rate smiles: 99.76260573383335\n",
            "250000 203459\n",
            "false positive rate smiles: 98.7506082306509\n",
            "300000 203459\n",
            "false positive rate smiles: 96.61455133466694\n",
            "350000 203459\n",
            "false positive rate smiles: 92.47907440811171\n",
            "400000 203459\n",
            "false positive rate smiles: 87.26819654082641\n",
            "450000 203459\n",
            "false positive rate smiles: 80.355255850073\n",
            "500000 203459\n",
            "false positive rate smiles: 72.9252576686212\n",
            "550000 203459\n",
            "false positive rate smiles: 65.50410647845513\n",
            "600000 203459\n",
            "false positive rate smiles: 57.64208022255098\n",
            "650000 203459\n",
            "false positive rate smiles: 50.61658614266265\n",
            "700000 203459\n",
            "false positive rate smiles: 43.70462845094097\n",
            "750000 203459\n",
            "false positive rate smiles: 38.10939796224301\n",
            "800000 203459\n",
            "false positive rate smiles: 32.388835096997425\n",
            "850000 203459\n",
            "false positive rate smiles: 27.986473933323182\n",
            "900000 203459\n",
            "false positive rate smiles: 23.79103406583144\n",
            "950000 203459\n",
            "false positive rate smiles: 20.277304026855532\n",
            "1000000 203459\n",
            "false positive rate smiles: 17.400557360451003\n",
            "2000000 203459\n",
            "false positive rate smiles: 0.9240190898411953\n",
            "3000000 203459\n",
            "false positive rate smiles: 0.07863992253967922\n",
            "4000000 203459\n",
            "false positive rate smiles: 0.009338490801582111\n",
            "5000000 203459\n",
            "false positive rate smiles: 0.0009829990317484771\n",
            "10000000 203459\n",
            "false positive rate smiles: 0.0004914995158742386\n",
            "100000000 203459\n",
            "false positive rate smiles: 0.0\n"
          ]
        }
      ],
      "source": [
        "fpr_smi = []\n",
        "for size in bloom_size:\n",
        "  bloom_smi = CustomFilter(size,200000,\"myfilter\")\n",
        "  is_not_smiles = []\n",
        "  for i,smi in enumerate(can_smiles):\n",
        "    if i <split:\n",
        "        bloom_smi.add(smi)\n",
        "    if i > split:       \n",
        "      is_not_smiles.append(bloom_smi.__contains__(smi))\n",
        "  fpr_smi.append(100-(len(is_not_smiles)-sum(is_not_smiles))*100/len(is_not_smiles))\n",
        "  print(size,len(is_not_smiles))\n",
        "  print(f'false positive rate smiles: {100-(len(is_not_smiles)-sum(is_not_smiles))*100/len(is_not_smiles)}')"
      ]
    },
    {
      "cell_type": "code",
      "execution_count": null,
      "id": "63a59944",
      "metadata": {
        "id": "63a59944"
      },
      "outputs": [],
      "source": [
        "def add_molecules_md(fp1,fp2,bf,size):\n",
        "\n",
        "  for index in hashed_indexes(fp1,fp2,size):\n",
        "    bf[index]=1\n",
        "  return bf\n",
        "  \n",
        "def check_molecule_md(fp1, fp2, bf, size):\n",
        "\n",
        "    for index in hashed_indexes(fp1, fp2, size):\n",
        "        if bf[index] == 0:\n",
        "            return False\n",
        "    return True\n",
        "\n",
        "def test_wraper_md(fps1,fps2,size_range,split_index):\n",
        "    print()\n",
        "    fpr_fps=[]\n",
        "    for size in size_range:\n",
        "        is_not_fps = []\n",
        "        bf = create_empty_bloom_filter(size)\n",
        "        for i, (fp1,fp2) in enumerate(zip(fps1,fps2)):\n",
        "            if i < split_index:\n",
        "                bf = add_molecules_md(fp1,fp2,bf,size)\n",
        "            else:\n",
        "                is_not_fps.append(check_molecule_md(fp1,fp2,bf,size))\n",
        "\n",
        "        print(f'false positive rate fps:size {size:1.2E} {100-((len(is_not_fps)-sum(is_not_fps))*100/len(is_not_fps))}')\n",
        "        fpr_fps.append(100-((len(is_not_fps)-sum(is_not_fps))*100/len(is_not_fps)))\n",
        "    return fpr_fps"
      ]
    },
    {
      "cell_type": "code",
      "source": [
        "import hashlib"
      ],
      "metadata": {
        "id": "rT4Z2nBp2yBd"
      },
      "id": "rT4Z2nBp2yBd",
      "execution_count": null,
      "outputs": []
    },
    {
      "cell_type": "code",
      "execution_count": null,
      "id": "ba87bd80",
      "metadata": {
        "id": "ba87bd80",
        "outputId": "0ad03460-fa6a-4a5f-c02c-b002c4afdfc3",
        "colab": {
          "base_uri": "https://localhost:8080/"
        }
      },
      "outputs": [
        {
          "output_type": "stream",
          "name": "stdout",
          "text": [
            "\n",
            "false positive rate fps:size 1.00E+01 100.0\n",
            "false positive rate fps:size 1.00E+02 100.0\n",
            "false positive rate fps:size 1.00E+03 100.0\n",
            "false positive rate fps:size 1.00E+04 100.0\n",
            "false positive rate fps:size 5.00E+04 100.0\n",
            "false positive rate fps:size 1.00E+05 100.0\n",
            "false positive rate fps:size 1.50E+05 99.98328909859431\n",
            "false positive rate fps:size 2.00E+05 99.79160522952914\n",
            "false positive rate fps:size 2.50E+05 98.77224024378256\n",
            "false positive rate fps:size 3.00E+05 96.35210852255972\n",
            "false positive rate fps:size 3.50E+05 92.60051115698417\n",
            "false positive rate fps:size 4.00E+05 87.25302270716602\n",
            "false positive rate fps:size 4.50E+05 80.10714636783644\n",
            "false positive rate fps:size 5.00E+05 72.96520200530817\n",
            "false positive rate fps:size 5.50E+05 65.34306497591663\n",
            "false positive rate fps:size 6.00E+05 57.81775287525804\n",
            "false positive rate fps:size 6.50E+05 50.72151774304532\n",
            "false positive rate fps:size 7.00E+05 43.919197876732525\n",
            "false positive rate fps:size 7.50E+05 37.72387692912612\n",
            "false positive rate fps:size 8.00E+05 32.4805858645434\n",
            "false positive rate fps:size 8.50E+05 28.019266686326546\n",
            "false positive rate fps:size 9.00E+05 23.923621350634036\n",
            "false positive rate fps:size 9.50E+05 20.183819915462493\n",
            "false positive rate fps:size 1.00E+06 17.5208886267571\n",
            "false positive rate fps:size 2.00E+06 0.9367934729185095\n",
            "false positive rate fps:size 3.00E+06 0.07814803892657096\n",
            "false positive rate fps:size 4.00E+06 0.0073724565025088395\n",
            "false positive rate fps:size 5.00E+06 0.0009829942003278802\n",
            "false positive rate fps:size 1.00E+07 0.0\n",
            "false positive rate fps:size 1.00E+08 0.0\n"
          ]
        }
      ],
      "source": [
        "md4 = [int(hashlib.new(\"md4\",smile.encode('utf-16le')).hexdigest(),16) for smile in can_smiles]\n",
        "md5 = [int(hashlib.new(\"md5\",smile.encode('utf-16le')).hexdigest(),16) for smile in can_smiles]\n",
        "fpr_fpsmd = test_wraper_md(md4,md5,bloom_size,split)"
      ]
    },
    {
      "cell_type": "code",
      "execution_count": null,
      "id": "5cb760ab",
      "metadata": {
        "id": "5cb760ab"
      },
      "outputs": [],
      "source": [
        "bloom_size = np.array(bloom_size)\n",
        "import math\n",
        "\n",
        "def bloom_filter_false_positive_rate(k, m, n):\n",
        "    \"\"\"\n",
        "    Calculates the theoretical false positive rate of a Bloom filter\n",
        "    with k hash functions and m bits in the filter, given the number\n",
        "    of elements added to the filter.\n",
        "\n",
        "    Args:\n",
        "    - k (int): Number of hash functions\n",
        "    - m (int): Number of bits in the filter\n",
        "    - n (int): Number of elements added to the filter\n",
        "\n",
        "    Returns:\n",
        "    - Theoretical false positive rate of the Bloom filter\n",
        "    \"\"\"\n",
        "    p = (1 - math.exp(-k * n / m)) ** k\n",
        "    return p\n",
        "theoretical_fpr = []\n",
        "for size in bloom_size:\n",
        "    theoretical_fpr.append(100*bloom_filter_false_positive_rate(max(8,min(64,size//(406919//2)*math.log(2))),size,int(406919/2)))"
      ]
    },
    {
      "cell_type": "code",
      "execution_count": null,
      "id": "98666f52",
      "metadata": {
        "id": "98666f52",
        "outputId": "893a7432-98ab-424a-f35c-d88b6121a75e",
        "colab": {
          "base_uri": "https://localhost:8080/",
          "height": 564
        }
      },
      "outputs": [
        {
          "output_type": "stream",
          "name": "stderr",
          "text": [
            "<ipython-input-19-6cdceb490954>:30: MatplotlibDeprecationWarning: The join function was deprecated in Matplotlib 3.6 and will be removed two minor releases later.\n",
            "  axs[i].get_shared_y_axes().join(axs[i], axs[i+3])\n"
          ]
        },
        {
          "output_type": "display_data",
          "data": {
            "text/plain": [
              "<Figure size 1300x650 with 8 Axes>"
            ],
            "image/png": "[encoded data removed]"
          },
          "metadata": {}
        }
      ],
      "source": [
        "\n",
        "# Define the data\n",
        "data = {\n",
        "    \"Morgan-AtomPair\": fpr_fps1,\n",
        "    \"Morgan-RDK\": fpr_fps2,\n",
        "    \"Morgan-MACCS\": fpr_fps3,\n",
        "    \"Atompair-RDK\": fpr_fps4,\n",
        "    \"Atompair-MACCS \": fpr_fps5,\n",
        "    \"RDK-MACCS\": fpr_fps6,\n",
        "    \"Smiles:FNV\": fpr_smi,\n",
        "    \"Smiles:md4-md5\": fpr_fpsmd\n",
        "}\n",
        "\n",
        "color_list = list(colors.TABLEAU_COLORS.values())\n",
        "# Create the subplots\n",
        "fig, axs = plt.subplots(2, 4, figsize=(13, 6.5), sharex=True, sharey=False)\n",
        "axs = axs.flatten()\n",
        "\n",
        "# Plot the data and theoretical values\n",
        "for i, (name, values) in enumerate(data.items()):\n",
        "    axs[i].plot(bloom_size, values, label=name,color=f'{color_list[i]}')\n",
        "    axs[i].plot(bloom_size, theoretical_fpr, linestyle='--',color='black', label='Theoretical FPR')\n",
        "    axs[i].set_xscale('log')\n",
        "    axs[i].set_title(f\"Hash Function Combination {i+1}\")\n",
        "    axs[i].set_xlabel(\"Size (bits)\")\n",
        "    axs[i].legend()\n",
        "\n",
        "    # Set sharey to True for the first column\n",
        "    if i % 4 == 0:\n",
        "        axs[i].set_ylabel(\"False Positive Rate\")\n",
        "        axs[i].get_shared_y_axes().join(axs[i], axs[i+3])\n",
        "\n",
        "# Remove y-axis for the remaining columns\n",
        "#for i in range(1, 4):\n",
        "#    for j in range(0, 2):\n",
        "#        axs[i*4+j].get_yaxis().set_visible(False)\n",
        "\n",
        "plt.tight_layout()\n",
        "plt.show()\n"
      ]
    },
    {
      "cell_type": "code",
      "execution_count": null,
      "id": "8f95cdd2",
      "metadata": {
        "id": "8f95cdd2"
      },
      "outputs": [],
      "source": []
    }
  ],
  "metadata": {
    "kernelspec": {
      "display_name": "molbloom",
      "language": "python",
      "name": "molbloom"
    },
    "language_info": {
      "codemirror_mode": {
        "name": "ipython",
        "version": 3
      },
      "file_extension": ".py",
      "mimetype": "text/x-python",
      "name": "python",
      "nbconvert_exporter": "python",
      "pygments_lexer": "ipython3",
      "version": "3.6.13"
    },
    "colab": {
      "provenance": [],
      "machine_shape": "hm",
      "include_colab_link": true
    },
    "gpuClass": "standard"
  },
  "nbformat": 4,
  "nbformat_minor": 5
}