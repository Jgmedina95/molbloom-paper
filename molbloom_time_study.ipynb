{
  "cells": [
    {
      "cell_type": "markdown",
      "metadata": {
        "id": "view-in-github",
        "colab_type": "text"
      },
      "source": [
        "<a href=\"https://colab.research.google.com/github/Jgmedina95/molbloom-paper/blob/main/molbloom_time_study.ipynb\" target=\"_parent\"><img src=\"https://colab.research.google.com/assets/colab-badge.svg\" alt=\"Open In Colab\"/></a>"
      ]
    },
    {
      "cell_type": "code",
      "source": [
        "pip install molbloom\n"
      ],
      "metadata": {
        "colab": {
          "base_uri": "https://localhost:8080/"
        },
        "id": "AcGB3vRYT7vv",
        "outputId": "c489ed5e-3f5b-48d6-87a5-efe0921944b2"
      },
      "id": "AcGB3vRYT7vv",
      "execution_count": 1,
      "outputs": [
        {
          "output_type": "stream",
          "name": "stdout",
          "text": [
            "Looking in indexes: https://pypi.org/simple, https://us-python.pkg.dev/colab-wheels/public/simple/\n",
            "Collecting molbloom\n",
            "  Downloading molbloom-2.1.0-cp39-cp39-manylinux_2_5_x86_64.manylinux1_x86_64.manylinux_2_17_x86_64.manylinux2014_x86_64.whl (9.3 MB)\n",
            "\u001b[2K     \u001b[90m━━━━━━━━━━━━━━━━━━━━━━━━━━━━━━━━━━━━━━━━\u001b[0m \u001b[32m9.3/9.3 MB\u001b[0m \u001b[31m4.4 MB/s\u001b[0m eta \u001b[36m0:00:00\u001b[0m\n",
            "\u001b[?25hRequirement already satisfied: importlib-resources in /usr/local/lib/python3.9/dist-packages (from molbloom) (5.12.0)\n",
            "Requirement already satisfied: zipp>=3.1.0 in /usr/local/lib/python3.9/dist-packages (from importlib-resources->molbloom) (3.15.0)\n",
            "Installing collected packages: molbloom\n",
            "Successfully installed molbloom-2.1.0\n"
          ]
        }
      ]
    },
    {
      "cell_type": "code",
      "source": [
        "pip install rdkit"
      ],
      "metadata": {
        "colab": {
          "base_uri": "https://localhost:8080/"
        },
        "id": "-L5C6-vLUFid",
        "outputId": "6060d93d-fbb9-49c7-ec73-bd05e0ed9f03"
      },
      "id": "-L5C6-vLUFid",
      "execution_count": 2,
      "outputs": [
        {
          "output_type": "stream",
          "name": "stdout",
          "text": [
            "Looking in indexes: https://pypi.org/simple, https://us-python.pkg.dev/colab-wheels/public/simple/\n",
            "Collecting rdkit\n",
            "  Downloading rdkit-2022.9.5-cp39-cp39-manylinux_2_17_x86_64.manylinux2014_x86_64.whl (29.4 MB)\n",
            "\u001b[2K     \u001b[90m━━━━━━━━━━━━━━━━━━━━━━━━━━━━━━━━━━━━━━━━\u001b[0m \u001b[32m29.4/29.4 MB\u001b[0m \u001b[31m2.6 MB/s\u001b[0m eta \u001b[36m0:00:00\u001b[0m\n",
            "\u001b[?25hRequirement already satisfied: numpy in /usr/local/lib/python3.9/dist-packages (from rdkit) (1.22.4)\n",
            "Requirement already satisfied: Pillow in /usr/local/lib/python3.9/dist-packages (from rdkit) (8.4.0)\n",
            "Installing collected packages: rdkit\n",
            "Successfully installed rdkit-2022.9.5\n"
          ]
        }
      ]
    },
    {
      "cell_type": "code",
      "execution_count": 3,
      "id": "601dc863",
      "metadata": {
        "id": "601dc863"
      },
      "outputs": [],
      "source": [
        "import matplotlib.pyplot as plt\n",
        "import matplotlib.font_manager as font_manager\n",
        "import urllib.request\n",
        "import matplotlib as mpl\n",
        "import matplotlib.pyplot as plt\n",
        "import matplotlib.colors as colors\n",
        "from matplotlib.ticker import FuncFormatter\n",
        "import numpy as np\n",
        "import math\n",
        "import os\n",
        "import urllib\n",
        "from dataclasses import dataclass\n",
        "import json\n",
        "import sys\n",
        "from molbloom import CustomFilter, canon\n",
        "from rdkit import DataStructs\n",
        "from rdkit import Chem\n",
        "from rdkit.Chem import AllChem, MACCSkeys, AllChem, MACCSkeys, rdMolDescriptors\n",
        "import time\n",
        "from urllib.request import urlopen\n",
        "from urllib.error import URLError, HTTPError\n",
        "import json\n",
        "#np.random.seed(0)\n",
        "urllib.request.urlretrieve('https://github.com/google/fonts/raw/main/ofl/ibmplexmono/IBMPlexMono-Regular.ttf', 'IBMPlexMono-Regular.ttf')\n",
        "fe = font_manager.FontEntry(\n",
        "    fname='IBMPlexMono-Regular.ttf',\n",
        "    name='plexmono')\n",
        "font_manager.fontManager.ttflist.append(fe)\n",
        "plt.rcParams.update({'axes.facecolor':'#f5f4e9', \n",
        "            'grid.color' : '#AAAAAA', \n",
        "            'axes.edgecolor':'#333333', \n",
        "            'figure.facecolor':'#FFFFFF', \n",
        "            'axes.grid': False,\n",
        "            'axes.prop_cycle':   plt.cycler('color', plt.cm.Dark2.colors),\n",
        "            'font.family': fe.name,\n",
        "            'figure.figsize': (3.5,3.5 / 1.2),\n",
        "            'ytick.left': True,\n",
        "            'xtick.bottom': True   \n",
        "           })"
      ]
    },
    {
      "cell_type": "code",
      "source": [
        "from google.colab import drive\n",
        "drive.mount('/content/drive')"
      ],
      "metadata": {
        "colab": {
          "base_uri": "https://localhost:8080/"
        },
        "id": "m-m71sQJUn2-",
        "outputId": "216e26e5-baf5-4bb3-bc1d-39ed756cfab4"
      },
      "id": "m-m71sQJUn2-",
      "execution_count": 4,
      "outputs": [
        {
          "output_type": "stream",
          "name": "stdout",
          "text": [
            "Mounted at /content/drive\n"
          ]
        }
      ]
    },
    {
      "cell_type": "code",
      "execution_count": 5,
      "id": "69f4e013",
      "metadata": {
        "id": "69f4e013"
      },
      "outputs": [],
      "source": [
        "with open(\"/content/drive/MyDrive/COCONUT_DB.smi\", \"r\") as f:\n",
        "    smi_list = f.readlines()\n",
        "#smi_list"
      ]
    },
    {
      "cell_type": "code",
      "source": [
        "from rdkit import RDLogger\n",
        "RDLogger.DisableLog('rdApp.warning') #this is for cleaner presentation. A lot of messages of the type: [13:19:48] Explicit valence for atom # 3 B, 4, is greater than permitted"
      ],
      "metadata": {
        "id": "iICis9HSUxmE"
      },
      "id": "iICis9HSUxmE",
      "execution_count": 6,
      "outputs": []
    },
    {
      "cell_type": "code",
      "source": [
        "#python implementation of bloom filter with fps\n",
        "\n",
        "def create_empty_bloom_filter(size):\n",
        "    return np.zeros(size)\n",
        "\n",
        "def hashed_indexes(h1,h2,size):\n",
        "  indexes = []\n",
        "  for i in range(max(8, min(64, int(size / int(406919/2) * math.log(2))))):\n",
        "     indexes.append(((h1) + i*(h2))%size)\n",
        "  return indexes\n",
        "\n",
        "def add_molecules(fp1,fp2,bf,size):\n",
        "  h1 = int(DataStructs.BitVectToText(fp1),base=2)\n",
        "  h2 = int(DataStructs.BitVectToText(fp2),base=2)\n",
        "  for index in hashed_indexes(h1,h2,size):\n",
        "    bf[index]=1\n",
        "  return bf\n",
        "  \n",
        "def check_molecule(fp1, fp2, bf, size):\n",
        "    h1 = int(DataStructs.BitVectToText(fp1), base=2)\n",
        "    h2 = int(DataStructs.BitVectToText(fp2), base=2)\n",
        "    for index in hashed_indexes(h1, h2, size):\n",
        "        if bf[index] == 0:\n",
        "            return False\n",
        "    return True"
      ],
      "metadata": {
        "id": "HwE9X5X67fX9"
      },
      "id": "HwE9X5X67fX9",
      "execution_count": 11,
      "outputs": []
    },
    {
      "cell_type": "code",
      "execution_count": null,
      "id": "054dc242",
      "metadata": {
        "scrolled": true,
        "id": "054dc242"
      },
      "outputs": [],
      "source": [
        "mols = []\n",
        "can_smiles = []\n",
        "for i,smi in enumerate(smi_list):\n",
        "  mol = Chem.MolFromSmiles(smi.split(\" \")[0])\n",
        "  if mol:\n",
        "    mols.append(mol)\n",
        "    can_smiles.append(Chem.MolToSmiles(mol,True))"
      ]
    },
    {
      "cell_type": "code",
      "execution_count": 8,
      "id": "4f4b529d",
      "metadata": {
        "id": "4f4b529d"
      },
      "outputs": [],
      "source": [
        "#time experiments\n",
        "fpr_smi = []\n",
        "avg_times = []\n",
        "bloom_size = [10,100,1000,10000,50000,100000,150000,200000,250000,300000,350000,400000,450000,500000,550000,600000,650000,700000,750000,800000,850000,900000,950000,1000000,2000000,3000000,4000000,5000000,10_000_000,100_000_000]\n",
        "split = int(len(mols)/2)\n",
        "for size in bloom_size:\n",
        "  bloom_smi = CustomFilter(size,200000,\"myfilter\")\n",
        "  is_not_smiles = []\n",
        "  timings = []\n",
        "  for i,smi in enumerate(smi_list):\n",
        "    if i <split:\n",
        "        bloom_smi.add(smi.split(\" \")[0])\n",
        "    if i > split:       \n",
        "        start_time = time.time()\n",
        "    \n",
        "    # check if the molecule is in the filter\n",
        "        if bloom_smi.__contains__(smi.split(\" \")[0]):\n",
        "            pass\n",
        "    \n",
        "    # stop the timer and record the timing\n",
        "        timing = time.time() - start_time\n",
        "        timings.append(timing)\n",
        "        is_not_smiles.append(bloom_smi.__contains__(smi.split(\" \")[0]))\n",
        "  avg_time = sum(timings) / len(timings)\n",
        "  avg_times.append(avg_time)\n",
        "  #print(f\"Average time to check a molecule: {avg_time:.8f} seconds\")\n",
        "  fpr_smi.append(100-(len(is_not_smiles)-sum(is_not_smiles))*100/len(is_not_smiles))\n",
        "  #print(size,len(is_not_smiles))\n",
        "  #print(f'false positive rate smiles: {100-(len(is_not_smiles)-sum(is_not_smiles))*100/len(is_not_smiles)}')\n",
        "avg_check = sum(avg_times)/len(avg_times)"
      ]
    },
    {
      "cell_type": "code",
      "execution_count": 9,
      "id": "92c98dd0",
      "metadata": {
        "scrolled": true,
        "id": "92c98dd0",
        "colab": {
          "base_uri": "https://localhost:8080/"
        },
        "outputId": "ace84bea-d48c-4146-943f-43de351cea28"
      },
      "outputs": [
        {
          "output_type": "stream",
          "name": "stderr",
          "text": [
            "[16:09:10] Explicit valence for atom # 7 N, 4, is greater than permitted\n",
            "[16:09:10] Explicit valence for atom # 9 N, 4, is greater than permitted\n",
            "[16:09:10] Explicit valence for atom # 15 N, 4, is greater than permitted\n",
            "[16:09:10] Explicit valence for atom # 4 N, 4, is greater than permitted\n",
            "[16:09:10] Explicit valence for atom # 20 N, 4, is greater than permitted\n",
            "[16:09:11] Explicit valence for atom # 8 N, 4, is greater than permitted\n",
            "[16:09:11] Explicit valence for atom # 37 N, 4, is greater than permitted\n",
            "[16:09:11] Explicit valence for atom # 23 N, 4, is greater than permitted\n",
            "[16:09:11] Explicit valence for atom # 8 N, 4, is greater than permitted\n"
          ]
        },
        {
          "output_type": "stream",
          "name": "stdout",
          "text": [
            "Average time for MolFromSmiles: 0.00024372 seconds\n",
            "Average time for MolToSmiles: 0.00015386 seconds\n"
          ]
        }
      ],
      "source": [
        "total_time_mol_from_smiles = 0.0\n",
        "total_time_mol_to_smiles = 0.0\n",
        "counter = 0\n",
        "for i, smi in enumerate(smi_list):\n",
        "    # Time for MolFromSmiles\n",
        "    start_time = time.time()\n",
        "    mol = Chem.MolFromSmiles(smi.split(\" \")[0])\n",
        "    if mol:\n",
        "        mols.append(mol)\n",
        "    end_time = time.time()\n",
        "    total_time_mol_from_smiles += end_time - start_time\n",
        "    \n",
        "    # Time for MolToSmiles\n",
        "    if mol:\n",
        "        counter +=1\n",
        "        start_time = time.time()\n",
        "        can_smi = Chem.MolToSmiles(mol, True)\n",
        "        if can_smi:\n",
        "            can_smiles.append(can_smi)\n",
        "        else:\n",
        "            print(f'error with {smi}')\n",
        "        end_time = time.time()\n",
        "        total_time_mol_to_smiles += end_time - start_time\n",
        "\n",
        "avg_time_mol_from_smiles = total_time_mol_from_smiles / len(smi_list)\n",
        "avg_time_mol_to_smiles = total_time_mol_to_smiles / counter\n",
        "print(f\"Average time for MolFromSmiles: {avg_time_mol_from_smiles:.8f} seconds\")\n",
        "print(f\"Average time for MolToSmiles: {avg_time_mol_to_smiles:.8f} seconds\")"
      ]
    },
    {
      "cell_type": "code",
      "execution_count": 12,
      "id": "1a4a6bb1",
      "metadata": {
        "id": "1a4a6bb1",
        "colab": {
          "base_uri": "https://localhost:8080/"
        },
        "outputId": "3f079d38-158f-4372-cedf-2cc77e1b924c"
      },
      "outputs": [
        {
          "output_type": "stream",
          "name": "stdout",
          "text": [
            "Average mol object generation time: 0.00027642457485198973\n",
            "Average RDKit fingerprint generation time: 0.0012372687524635885\n",
            "Average MACCS fingerprint generation time: 0.0013966258640617764\n",
            "Average Bloom filter check time: 6.72558450106864e-05\n",
            "total average: 0.002977575036388041\n"
          ]
        }
      ],
      "source": [
        "##Time stude for fingerprints \n",
        "# Define the size of the Bloom filter\n",
        "bf_size = 1000000\n",
        "\n",
        "# Initialize the Bloom filter with all zeros\n",
        "bf = [0] * bf_size\n",
        "\n",
        "# Initialize variables to keep track of the total time for each step\n",
        "mol_total_time = 0\n",
        "rdk_total_time = 0\n",
        "maccs_total_time = 0\n",
        "check_total_time = 0\n",
        "counter = 0\n",
        "# Loop through the list of SMILES strings\n",
        "for i,smile in enumerate(smi_list):\n",
        "    # Start timing the RDKit fingerprint generation\n",
        "    smi= smile.split(\" \")[0]\n",
        "    if i >20000:\n",
        "        break\n",
        "    mol_start_time = time.time()\n",
        "    # Convert the SMILES string to an RDKit molecule object\n",
        "    mol = Chem.MolFromSmiles(smi)\n",
        "    mol_end_time = time.time()\n",
        "    mol_time = mol_end_time - mol_start_time\n",
        "    mol_total_time += mol_time\n",
        "    \n",
        "    if mol:\n",
        "        counter +=1\n",
        "        rdk_start_time = time.time()\n",
        "        # Generate the RDKit fingerprint\n",
        "        rdk_fp = Chem.RDKFingerprint(mol)\n",
        "    \n",
        "        # Stop timing the RDKit fingerprint generation and add the elapsed time to the running total\n",
        "        rdk_end_time = time.time()\n",
        "        rdk_time = rdk_end_time - rdk_start_time\n",
        "        rdk_total_time += rdk_time\n",
        "\n",
        "        # Start timing the MACCS fingerprint generation\n",
        "        maccs_start_time = time.time()\n",
        "    \n",
        "        # Generate the MACCS fingerprint\n",
        "        maacs_fp = MACCSkeys.GenMACCSKeys(mol)\n",
        "    \n",
        "        # Stop timing the MACCS fingerprint generation and add the elapsed time to the running total\n",
        "        maccs_end_time = time.time()\n",
        "        maccs_time = maccs_end_time - maccs_start_time\n",
        "        maccs_total_time += maccs_time\n",
        "\n",
        "        # Start timing the Bloom filter check\n",
        "        check_start_time = time.time()\n",
        "    \n",
        "        # Check if the molecule is already present in the Bloom filter\n",
        "        is_present = check_molecule(rdk_fp, maacs_fp, bf, bf_size)\n",
        "    \n",
        "        # Stop timing the Bloom filter check and add the elapsed time to the running total\n",
        "        check_end_time = time.time()\n",
        "        check_time = check_end_time - check_start_time\n",
        "        check_total_time += check_time\n",
        "    \n",
        "    # Print a message indicating whether the molecule is in the Bloom filter or not\n",
        "    #if is_present:\n",
        "    #    print(\"Molecule with SMILES\", smiles, \"is already in the Bloom filter\")\n",
        "    #else:\n",
        "    #    print(\"Molecule with SMILES\", smiles, \"is not in the Bloom filter\")\n",
        "\n",
        "# Calculate the average time for each step\n",
        "num_molecules = 20000\n",
        "mol_avg_time = mol_total_time /num_molecules\n",
        "rdk_avg_time = rdk_total_time / counter\n",
        "maccs_avg_time = maccs_total_time / counter\n",
        "check_avg_time = check_total_time / counter\n",
        "total_avg_fp_time = mol_avg_time+rdk_avg_time+maccs_avg_time + check_avg_time \n",
        "# Print out the average times\n",
        "print(\"Average mol object generation time:\", mol_avg_time)\n",
        "print(\"Average RDKit fingerprint generation time:\", rdk_avg_time)\n",
        "print(\"Average MACCS fingerprint generation time:\", maccs_avg_time)\n",
        "print(\"Average Bloom filter check time:\", check_avg_time)\n",
        "print(\"total average:\", total_avg_fp_time)"
      ]
    },
    {
      "cell_type": "code",
      "execution_count": 13,
      "id": "45f2fe5f",
      "metadata": {
        "id": "45f2fe5f",
        "colab": {
          "base_uri": "https://localhost:8080/"
        },
        "outputId": "21080b3e-1c8c-4f2e-fced-79e4fb0e86aa"
      },
      "outputs": [
        {
          "output_type": "stream",
          "name": "stdout",
          "text": [
            "0\n",
            "Something bad happened\n",
            "Something bad happened\n",
            "Something bad happened\n",
            "100\n",
            "Something bad happened\n",
            "200\n",
            "Something bad happened\n",
            "Something bad happened\n",
            "Something bad happened\n",
            "Something bad happened\n",
            "Something bad happened\n",
            "Something bad happened\n",
            "Something bad happened\n",
            "Something bad happened\n",
            "Something bad happened\n",
            "Something bad happened\n",
            "300\n",
            "400\n",
            "500\n"
          ]
        }
      ],
      "source": [
        "#time test using coconut API with 500 retrievals\n",
        "total_time = 0.0\n",
        "for i,smi in enumerate(smi_list):\n",
        "    if i>500:\n",
        "        break\n",
        "    try:\n",
        "#        if i%100 == 0:\n",
        "#            print(i)\n",
        "        smile = smi.split(\" \")[0]\n",
        "        #print(smile)\n",
        "        start_time = time.time()\n",
        "        page = f\"https://coconut.naturalproducts.net/api/search/exact-structure?type=smiles&smiles={smile}\"\n",
        "        #print(page)\n",
        "        response = urlopen(page)\n",
        "        body = response.read()\n",
        "        todo_item = json.loads(body)\n",
        "        todo_item['count']\n",
        "        end_time = time.time()\n",
        "        total_time += end_time - start_time\n",
        "    except HTTPError:\n",
        "         print(\"Something bad happened\")\n",
        "    else:\n",
        "        pass\n",
        "avg_api_time = total_time/ 500"
      ]
    },
    {
      "cell_type": "code",
      "execution_count": 15,
      "id": "34dc6c61",
      "metadata": {
        "id": "34dc6c61",
        "colab": {
          "base_uri": "https://localhost:8080/",
          "height": 648
        },
        "outputId": "70e1e48b-f650-4919-e3fb-0a650d0c1030"
      },
      "outputs": [
        {
          "output_type": "display_data",
          "data": {
            "text/plain": [
              "<Figure size 800x600 with 1 Axes>"
            ],
            "image/png": "[encoded data removed]"
          },
          "metadata": {}
        }
      ],
      "source": [
        "# Sample data\n",
        "x = ['Total BF', 'Fingerprint BF', 'Internet search']\n",
        "y1 = [avg_time_mol_to_smiles, 0, 0]\n",
        "y2 = [avg_time_mol_from_smiles, 0, 0]\n",
        "y3 = [avg_check, 0, 0]\n",
        "y4 = [0, total_avg_fp_time, 0]\n",
        "y5 = [0, 0, avg_api_time]\n",
        "\n",
        "plt.figure(figsize=(8, 6))\n",
        "\n",
        "# Create the first stacked bar with different colors\n",
        "bottom_y2 = [sum(y) for y in zip(y1)]\n",
        "bottom_y3 = [sum(y) for y in zip(y1, y2)]\n",
        "\n",
        "plt.bar(x[0], y1[0], color='darkgray', label='Obj -> Can Smi')\n",
        "plt.bar(x[0], y2[0], color='gray', bottom=bottom_y2[0], label='Smi -> obj')\n",
        "plt.bar(x[0], y3[0], color='yellow', bottom=bottom_y3[0], label='Check')\n",
        "\n",
        "# Add the other bars normally\n",
        "plt.bar(x[1:], y4[1:], color='lightblue', label='Fingerprint BF')\n",
        "plt.bar(x[1:], y5[1:], color='purple', label='Internet search')\n",
        "\n",
        "# Set plot title and axis labels\n",
        "plt.title('Time usage comparison')\n",
        "plt.xlabel('Processes')\n",
        "plt.ylabel('Time (s)')\n",
        "plt.yscale('log')\n",
        "#plt.yticks(ticks=plt.yticks()[0], labels=[f\"{tick:.6f}\" for tick in plt.yticks()[0]])\n",
        "formatter = FuncFormatter(lambda y, _: f\"{y:.1e}\")\n",
        "plt.gca().yaxis.set_major_formatter(formatter)\n",
        "\n",
        "# Rotate x-axis labels\n",
        "plt.xticks(rotation=45)\n",
        "\n",
        "# Add gridlines\n",
        "plt.grid(axis='y', which='both', linestyle='--', linewidth=0.5)\n",
        "\n",
        "# Add a horizontal line at y=0\n",
        "plt.axhline(0, color='black', linewidth=0.5)\n",
        "\n",
        "# Add legend\n",
        "plt.legend(loc='upper left')\n",
        "\n",
        "# Show plot\n",
        "plt.show()\n"
      ]
    },
    {
      "cell_type": "code",
      "execution_count": 14,
      "id": "ddda8b44",
      "metadata": {
        "id": "ddda8b44",
        "colab": {
          "base_uri": "https://localhost:8080/"
        },
        "outputId": "253cd75f-c620-492d-af57-208ae64cc2e2"
      },
      "outputs": [
        {
          "output_type": "stream",
          "name": "stdout",
          "text": [
            "0.00015385545245535665\n",
            "0.00024371773189666723\n",
            "8.832443459037905e-07\n",
            "0.002977575036388041\n",
            "0.7583516907691955\n"
          ]
        }
      ],
      "source": [
        "print(avg_time_mol_to_smiles)\n",
        "print(avg_time_mol_from_smiles)\n",
        "print(avg_check)\n",
        "print(total_avg_fp_time)\n",
        "print(avg_api_time)"
      ]
    },
    {
      "cell_type": "code",
      "execution_count": null,
      "id": "8f95cdd2",
      "metadata": {
        "id": "8f95cdd2"
      },
      "outputs": [],
      "source": []
    }
  ],
  "metadata": {
    "kernelspec": {
      "display_name": "molbloom",
      "language": "python",
      "name": "molbloom"
    },
    "language_info": {
      "codemirror_mode": {
        "name": "ipython",
        "version": 3
      },
      "file_extension": ".py",
      "mimetype": "text/x-python",
      "name": "python",
      "nbconvert_exporter": "python",
      "pygments_lexer": "ipython3",
      "version": "3.6.13"
    },
    "colab": {
      "provenance": [],
      "machine_shape": "hm",
      "include_colab_link": true
    },
    "gpuClass": "standard"
  },
  "nbformat": 4,
  "nbformat_minor": 5
}